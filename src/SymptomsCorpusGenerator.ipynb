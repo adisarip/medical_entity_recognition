{
 "cells": [
  {
   "cell_type": "markdown",
   "metadata": {},
   "source": [
    "### First we would create keywords corpus for all kinds of 'symptom(s)'"
   ]
  },
  {
   "cell_type": "code",
   "execution_count": 3,
   "metadata": {},
   "outputs": [],
   "source": [
    "import string\n",
    "from nltk.corpus import stopwords \n",
    "from nltk.tokenize import wordpunct_tokenize\n",
    "\n",
    "l_stop_words = set(stopwords.words('english'))\n",
    "l_punct = list(string.punctuation)\n",
    "\n",
    "file_snomed_ids = \"../data/snomed_ids.txt\"\n",
    "file_snomed_desc = \"../data/sct2_Description_Full-en_INT_20180731.txt\"\n",
    "file_symptoms = \"../data/snomed_symptoms_corpus.txt\"\n",
    "l_snomed_symptom_ids = set()\n",
    "\n",
    "# reading all the symptom ids\n",
    "with open(file_snomed_ids, 'r') as SFH:\n",
    "    for line in SFH:\n",
    "        l_snomed_symptom_ids.add(line.rstrip())\n",
    "\n",
    "s_FH = open(file_symptoms, 'w+')\n",
    "with open(file_snomed_desc, 'r') as FH:\n",
    "    for line in FH:\n",
    "        # skip the first line\n",
    "        l_line_tokens = line.rstrip().split('\\t')\n",
    "        s_sym_concept_id = l_line_tokens[4]\n",
    "        if s_sym_concept_id in l_snomed_symptom_ids:\n",
    "            s_symptom_concept = l_line_tokens[7]\n",
    "            l_concept_tokens = wordpunct_tokenize(s_symptom_concept)\n",
    "            l_concept_terms = []\n",
    "            for token in l_concept_tokens:\n",
    "                token = token.lower()\n",
    "                if token not in l_punct \\\n",
    "                and token not in l_stop_words:\n",
    "                    l_concept_terms.append(token)\n",
    "            s_FH.write(' '.join(l_concept_terms) + \"\\n\")\n",
    "s_FH.close()"
   ]
  },
  {
   "cell_type": "code",
   "execution_count": null,
   "metadata": {},
   "outputs": [],
   "source": []
  },
  {
   "cell_type": "code",
   "execution_count": null,
   "metadata": {},
   "outputs": [],
   "source": []
  }
 ],
 "metadata": {
  "kernelspec": {
   "display_name": "Python 3",
   "language": "python",
   "name": "python3"
  },
  "language_info": {
   "codemirror_mode": {
    "name": "ipython",
    "version": 3
   },
   "file_extension": ".py",
   "mimetype": "text/x-python",
   "name": "python",
   "nbconvert_exporter": "python",
   "pygments_lexer": "ipython3",
   "version": "3.7.4"
  }
 },
 "nbformat": 4,
 "nbformat_minor": 2
}
