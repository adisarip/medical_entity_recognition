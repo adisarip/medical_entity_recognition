{
 "cells": [
  {
   "cell_type": "markdown",
   "metadata": {},
   "source": [
    "# Medical Entity Recognition"
   ]
  },
  {
   "cell_type": "code",
   "execution_count": 1,
   "metadata": {},
   "outputs": [],
   "source": [
    "from IPython.core.interactiveshell import InteractiveShell\n",
    "InteractiveShell.ast_node_interactivity = \"all\"\n",
    "\n",
    "import warnings\n",
    "warnings.filterwarnings('ignore')\n",
    "\n",
    "import pandas as pd\n",
    "import numpy as np\n",
    "import tensorflow as tf\n",
    "import matplotlib.pyplot as plt\n",
    "%matplotlib inline"
   ]
  },
  {
   "cell_type": "markdown",
   "metadata": {},
   "source": [
    "## Training Parameters"
   ]
  },
  {
   "cell_type": "code",
   "execution_count": 2,
   "metadata": {},
   "outputs": [],
   "source": [
    "max_len = 50\n",
    "char_max_len = 10\n",
    "word_emb_size = 20\n",
    "char_emb_size = 10\n",
    "BATCH_SIZE = 512\n",
    "EPOCHS = 100"
   ]
  },
  {
   "cell_type": "markdown",
   "metadata": {},
   "source": [
    "## Load Data"
   ]
  },
  {
   "cell_type": "code",
   "execution_count": 3,
   "metadata": {},
   "outputs": [
    {
     "name": "stdout",
     "output_type": "stream",
     "text": [
      "Number of sentences:  7520\n",
      "Number of words in the dataset:  8327\n",
      "Tags: ['O', 'B-Disease', 'I-ADR', 'I-Drug', 'B-Symptom', 'I-Finding', 'B-Drug', 'I-Disease', 'B-ADR', 'I-Symptom', 'B-Finding']\n",
      "Number of Labels:  11\n"
     ]
    },
    {
     "data": {
      "text/html": [
       "<div>\n",
       "<style scoped>\n",
       "    .dataframe tbody tr th:only-of-type {\n",
       "        vertical-align: middle;\n",
       "    }\n",
       "\n",
       "    .dataframe tbody tr th {\n",
       "        vertical-align: top;\n",
       "    }\n",
       "\n",
       "    .dataframe thead th {\n",
       "        text-align: right;\n",
       "    }\n",
       "</style>\n",
       "<table border=\"1\" class=\"dataframe\">\n",
       "  <thead>\n",
       "    <tr style=\"text-align: right;\">\n",
       "      <th></th>\n",
       "      <th>Document ID</th>\n",
       "      <th>Sentence #</th>\n",
       "      <th>Word</th>\n",
       "      <th>Tag</th>\n",
       "    </tr>\n",
       "  </thead>\n",
       "  <tbody>\n",
       "    <tr>\n",
       "      <th>0</th>\n",
       "      <td>ARTHROTEC.1</td>\n",
       "      <td>0</td>\n",
       "      <td>I</td>\n",
       "      <td>O</td>\n",
       "    </tr>\n",
       "    <tr>\n",
       "      <th>1</th>\n",
       "      <td>ARTHROTEC.1</td>\n",
       "      <td>0</td>\n",
       "      <td>feel</td>\n",
       "      <td>O</td>\n",
       "    </tr>\n",
       "    <tr>\n",
       "      <th>2</th>\n",
       "      <td>ARTHROTEC.1</td>\n",
       "      <td>0</td>\n",
       "      <td>a</td>\n",
       "      <td>O</td>\n",
       "    </tr>\n",
       "    <tr>\n",
       "      <th>3</th>\n",
       "      <td>ARTHROTEC.1</td>\n",
       "      <td>0</td>\n",
       "      <td>bit</td>\n",
       "      <td>B-ADR</td>\n",
       "    </tr>\n",
       "    <tr>\n",
       "      <th>4</th>\n",
       "      <td>ARTHROTEC.1</td>\n",
       "      <td>0</td>\n",
       "      <td>drowsy</td>\n",
       "      <td>I-ADR</td>\n",
       "    </tr>\n",
       "    <tr>\n",
       "      <th>5</th>\n",
       "      <td>ARTHROTEC.1</td>\n",
       "      <td>0</td>\n",
       "      <td>&amp;</td>\n",
       "      <td>O</td>\n",
       "    </tr>\n",
       "    <tr>\n",
       "      <th>6</th>\n",
       "      <td>ARTHROTEC.1</td>\n",
       "      <td>0</td>\n",
       "      <td>have</td>\n",
       "      <td>O</td>\n",
       "    </tr>\n",
       "    <tr>\n",
       "      <th>7</th>\n",
       "      <td>ARTHROTEC.1</td>\n",
       "      <td>0</td>\n",
       "      <td>a</td>\n",
       "      <td>O</td>\n",
       "    </tr>\n",
       "    <tr>\n",
       "      <th>8</th>\n",
       "      <td>ARTHROTEC.1</td>\n",
       "      <td>0</td>\n",
       "      <td>little</td>\n",
       "      <td>B-ADR</td>\n",
       "    </tr>\n",
       "    <tr>\n",
       "      <th>9</th>\n",
       "      <td>ARTHROTEC.1</td>\n",
       "      <td>0</td>\n",
       "      <td>blurred</td>\n",
       "      <td>I-ADR</td>\n",
       "    </tr>\n",
       "  </tbody>\n",
       "</table>\n",
       "</div>"
      ],
      "text/plain": [
       "   Document ID  Sentence #     Word    Tag\n",
       "0  ARTHROTEC.1           0        I      O\n",
       "1  ARTHROTEC.1           0     feel      O\n",
       "2  ARTHROTEC.1           0        a      O\n",
       "3  ARTHROTEC.1           0      bit  B-ADR\n",
       "4  ARTHROTEC.1           0   drowsy  I-ADR\n",
       "5  ARTHROTEC.1           0        &      O\n",
       "6  ARTHROTEC.1           0     have      O\n",
       "7  ARTHROTEC.1           0        a      O\n",
       "8  ARTHROTEC.1           0   little  B-ADR\n",
       "9  ARTHROTEC.1           0  blurred  I-ADR"
      ]
     },
     "execution_count": 3,
     "metadata": {},
     "output_type": "execute_result"
    }
   ],
   "source": [
    "# read the annotated dataset from kaggle\n",
    "#data_files = (\"CADEC.csv\", \"PubMed.csv\", \"Micromed.csv\", \"Twimed_Twitter.csv\")\n",
    "#data_df = (pd.read_csv(f) for f in data_files)\n",
    "#data = pd.concat(data_df, axis=0, ignore_index=True)\n",
    "data = pd.read_csv(\"CADEC.csv\")\n",
    "data = data.fillna(method=\"ffill\")\n",
    "\n",
    "print(\"Number of sentences: \", len(data.groupby(['Sentence #'])))\n",
    "\n",
    "words = list(set(data[\"Word\"].values))\n",
    "n_words = len(words)\n",
    "print(\"Number of words in the dataset: \", n_words)\n",
    "\n",
    "chars = list(set([c for w in words for c in w]))\n",
    "n_chars = len(chars)\n",
    "\n",
    "tags = list(set(data[\"Tag\"].values))\n",
    "print(\"Tags:\", tags)\n",
    "n_tags = len(tags)\n",
    "print(\"Number of Labels: \", n_tags)\n",
    "\n",
    "# Show the first 10 rows\n",
    "data.head(n=10) "
   ]
  },
  {
   "cell_type": "code",
   "execution_count": 4,
   "metadata": {},
   "outputs": [
    {
     "data": {
      "text/plain": [
       "O            101896\n",
       "I-ADR         10900\n",
       "B-ADR          5756\n",
       "B-Drug         1799\n",
       "I-Finding       477\n",
       "B-Finding       414\n",
       "I-Symptom       332\n",
       "B-Disease       282\n",
       "B-Symptom       268\n",
       "I-Drug          243\n",
       "I-Disease       213\n",
       "Name: Tag, dtype: int64"
      ]
     },
     "execution_count": 4,
     "metadata": {},
     "output_type": "execute_result"
    }
   ],
   "source": [
    "data[\"Tag\"].value_counts()"
   ]
  },
  {
   "cell_type": "markdown",
   "metadata": {},
   "source": [
    "## Data Visualization"
   ]
  },
  {
   "cell_type": "code",
   "execution_count": 5,
   "metadata": {},
   "outputs": [],
   "source": [
    "# A class to get the sentences from the dataset\n",
    "class SentenceGetter(object):\n",
    "\n",
    "    def __init__(self, data):\n",
    "        self.n_sent = 1\n",
    "        self.data = data\n",
    "        self.empty = False\n",
    "        aggregate_function = lambda s : [(w, t)\n",
    "                                         for w, t in zip(s[\"Word\"].values.tolist(),\n",
    "                                                         s[\"Tag\"].values.tolist())]\n",
    "        self.grouped = self.data.groupby(\"Sentence #\").apply(aggregate_function)\n",
    "        self.sentences = [s for s in self.grouped]\n",
    "\n",
    "    def getNext(self):\n",
    "        try:\n",
    "            s = self.grouped[self.n_sent]\n",
    "            self.n_sent += 1\n",
    "            return s\n",
    "        except Exception as e:\n",
    "            print(\"Exception:\", e)\n",
    "            self.empty = True\n",
    "            return None"
   ]
  },
  {
   "cell_type": "code",
   "execution_count": 6,
   "metadata": {},
   "outputs": [
    {
     "data": {
      "text/plain": [
       "(array([7.960e+02, 1.831e+03, 1.721e+03, 1.058e+03, 8.340e+02, 5.310e+02,\n",
       "        2.360e+02, 1.720e+02, 1.140e+02, 6.600e+01, 4.800e+01, 3.200e+01,\n",
       "        2.100e+01, 1.000e+01, 1.000e+01, 1.200e+01, 5.000e+00, 8.000e+00,\n",
       "        3.000e+00, 1.000e+00, 2.000e+00, 1.000e+00, 0.000e+00, 0.000e+00,\n",
       "        2.000e+00, 0.000e+00, 0.000e+00, 0.000e+00, 0.000e+00, 0.000e+00,\n",
       "        0.000e+00, 1.000e+00, 2.000e+00, 0.000e+00, 1.000e+00, 0.000e+00,\n",
       "        0.000e+00, 0.000e+00, 0.000e+00, 0.000e+00, 0.000e+00, 0.000e+00,\n",
       "        0.000e+00, 0.000e+00, 1.000e+00, 0.000e+00, 0.000e+00, 0.000e+00,\n",
       "        0.000e+00, 1.000e+00]),\n",
       " array([  1. ,   5.7,  10.4,  15.1,  19.8,  24.5,  29.2,  33.9,  38.6,\n",
       "         43.3,  48. ,  52.7,  57.4,  62.1,  66.8,  71.5,  76.2,  80.9,\n",
       "         85.6,  90.3,  95. ,  99.7, 104.4, 109.1, 113.8, 118.5, 123.2,\n",
       "        127.9, 132.6, 137.3, 142. , 146.7, 151.4, 156.1, 160.8, 165.5,\n",
       "        170.2, 174.9, 179.6, 184.3, 189. , 193.7, 198.4, 203.1, 207.8,\n",
       "        212.5, 217.2, 221.9, 226.6, 231.3, 236. ]),\n",
       " <a list of 50 Patch objects>)"
      ]
     },
     "execution_count": 6,
     "metadata": {},
     "output_type": "execute_result"
    },
    {
     "data": {
      "text/plain": [
       "Text(0.5, 1.0, 'Token per sentence')"
      ]
     },
     "execution_count": 6,
     "metadata": {},
     "output_type": "execute_result"
    },
    {
     "data": {
      "text/plain": [
       "Text(0.5, 0, 'Len (number of token)')"
      ]
     },
     "execution_count": 6,
     "metadata": {},
     "output_type": "execute_result"
    },
    {
     "data": {
      "text/plain": [
       "Text(0, 0.5, '# samples')"
      ]
     },
     "execution_count": 6,
     "metadata": {},
     "output_type": "execute_result"
    },
    {
     "data": {
      "image/png": "[encoded data removed]",
      "text/plain": [
       "<Figure size 432x288 with 1 Axes>"
      ]
     },
     "metadata": {
      "needs_background": "light"
     },
     "output_type": "display_data"
    }
   ],
   "source": [
    "# Get all the sentences\n",
    "sentence_getter = SentenceGetter(data)\n",
    "l_sentences = sentence_getter.sentences\n",
    "#l_sentences = []\n",
    "#for s in sentences:\n",
    "#    if len(s) <= max_len:\n",
    "#        l_sentences.append(s)\n",
    "#    else:\n",
    "#        sent = \"\"\n",
    "#        for w, t in s:\n",
    "#            sent += w + ' '\n",
    "#        print(sent, len(s))\n",
    "\n",
    "# Plot sentence by lenght\n",
    "plt.hist([len(s) for s in l_sentences], bins=50)\n",
    "plt.title('Token per sentence')\n",
    "plt.xlabel('Len (number of token)')\n",
    "plt.ylabel('# samples')\n",
    "plt.show()"
   ]
  },
  {
   "cell_type": "markdown",
   "metadata": {},
   "source": [
    "## Data PreProcessing"
   ]
  },
  {
   "cell_type": "code",
   "execution_count": 7,
   "metadata": {},
   "outputs": [],
   "source": [
    "# Prepare the data\n",
    "words_to_index = {word: index + 2 for index, word in enumerate(words)}\n",
    "words_to_index[\"UNK\"] = 1\n",
    "words_to_index[\"PAD\"] = 0\n",
    "\n",
    "char_to_index = {c: i + 2 for i, c in enumerate(chars)}\n",
    "char_to_index[\"UNK\"] = 1\n",
    "char_to_index[\"PAD\"] = 0\n",
    "\n",
    "tags_to_index = {tag: index + 1 for index, tag in enumerate(tags)}\n",
    "tags_to_index[\"PAD\"] = 0"
   ]
  },
  {
   "cell_type": "code",
   "execution_count": 8,
   "metadata": {},
   "outputs": [],
   "source": [
    "X_char = []\n",
    "for sent in l_sentences:\n",
    "    sent_seq = []\n",
    "    for i in range(max_len):\n",
    "        word_seq = []\n",
    "        for j in range(char_max_len):\n",
    "            try:\n",
    "                word_seq.append(char_to_index[sent[i][0][j]])\n",
    "            except:\n",
    "                word_seq.append(char_to_index[\"PAD\"])\n",
    "        sent_seq.append(word_seq)\n",
    "    X_char.append(sent_seq)"
   ]
  },
  {
   "cell_type": "code",
   "execution_count": 9,
   "metadata": {},
   "outputs": [
    {
     "name": "stdout",
     "output_type": "stream",
     "text": [
      "Raw Sample:  Experienced excruciating , unusual abdominal pain ( bowel , uterine ) and lower back pain for about 5 hours after taking ( including diarrhea 6 times ) , and heart palpitations and vaginal bleeding for about a day after taking 0\n",
      "Raw Label:  O B-ADR I-ADR I-ADR I-ADR I-ADR O O O O O O B-ADR I-ADR I-ADR O O O O O O O O B-ADR O O O O O B-ADR I-ADR O B-ADR I-ADR O O O O O O O\n"
     ]
    }
   ],
   "source": [
    "# preparing training and test data sets\n",
    "from tensorflow.keras.preprocessing.sequence import pad_sequences\n",
    "from tensorflow.keras.utils import to_categorical\n",
    "from sklearn.model_selection import train_test_split\n",
    "\n",
    "X = [[words_to_index[word[0]] for word in sentence] for sentence in l_sentences]\n",
    "X = pad_sequences(maxlen=max_len, sequences=X, value=words_to_index[\"PAD\"], padding=\"post\", truncating='post')\n",
    "\n",
    "y = [[tags_to_index[word[1]] for word in sentence] for sentence in l_sentences]\n",
    "y = pad_sequences(maxlen=max_len, sequences=y, value=tags_to_index[\"PAD\"], padding=\"post\", truncating='post')\n",
    "\n",
    "# changing the y-labels to categorical for training purposes\n",
    "y = [to_categorical(idx, num_classes=n_tags + 1) for idx in y]\n",
    "\n",
    "# Split in Training and Test sets\n",
    "X_tr, X_te, y_tr, y_te = train_test_split(X, y, test_size=0.1, random_state=7777)\n",
    "X_char_tr, X_char_te, _, _ = train_test_split(X_char, y, test_size=0.1, random_state=7777)\n",
    "\n",
    "idx = np.random.choice(range(len(l_sentences)))\n",
    "print('Raw Sample: ', ' '.join([w[0] for w in l_sentences[idx]]))\n",
    "print('Raw Label: ', ' '.join([w[1] for w in l_sentences[idx]]))\n",
    "#print('After processing, sample:', X[77])\n",
    "#print('After processing, labels:', y[77])"
   ]
  },
  {
   "cell_type": "markdown",
   "metadata": {},
   "source": [
    "## Model"
   ]
  },
  {
   "cell_type": "code",
   "execution_count": 11,
   "metadata": {
    "scrolled": false
   },
   "outputs": [
    {
     "name": "stdout",
     "output_type": "stream",
     "text": [
      "_________________________________________________________________\n",
      "Layer (type)                 Output Shape              Param #   \n",
      "=================================================================\n",
      "input_3 (InputLayer)         (None, 50)                0         \n",
      "_________________________________________________________________\n",
      "embedding_3 (Embedding)      (None, 50, 20)            166580    \n",
      "_________________________________________________________________\n",
      "bidirectional_2 (Bidirection (None, 50, 100)           28400     \n",
      "_________________________________________________________________\n",
      "time_distributed_6 (TimeDist (None, 50, 50)            5050      \n",
      "_________________________________________________________________\n",
      "crf_2 (CRF)                  (None, 50, 12)            780       \n",
      "=================================================================\n",
      "Total params: 200,810\n",
      "Trainable params: 200,810\n",
      "Non-trainable params: 0\n",
      "_________________________________________________________________\n"
     ]
    }
   ],
   "source": [
    "# Now fitting a LSTM-CRF network with an embedding layer\n",
    "from keras.models import Model, Input\n",
    "from keras.layers import LSTM, Embedding, Dense, TimeDistributed, Dropout, Bidirectional\n",
    "from keras_contrib.layers import CRF\n",
    "\n",
    "model_input = Input(shape=(max_len,))\n",
    "model = Embedding(input_dim = n_words + 2,\n",
    "                  output_dim = word_emb_size,\n",
    "                 input_length = max_len,\n",
    "                  mask_zero = True)(model_input)  # 20-dim embedding#\n",
    "\n",
    "model = Bidirectional(LSTM(units=50,\n",
    "                           return_sequences=True,\n",
    "                           recurrent_dropout=0.1))(model)     # variational biLSTM\n",
    "\n",
    "model = TimeDistributed(Dense(50, activation=\"relu\"))(model)  # a dense layer as suggested by neuralNer\n",
    "\n",
    "crf = CRF(n_tags + 1) # CRF layer\n",
    "out = crf(model)  # output\n",
    "\n",
    "model = Model(model_input, out)\n",
    "model.compile(optimizer=\"rmsprop\", loss=crf.loss_function, metrics=[crf.accuracy])\n",
    "model.summary()\n",
    "#plot_model(model, to_file = 'lstm-crf.png')\n",
    "\n",
    "history = model.fit(X_tr,\n",
    "                    np.array(y_tr),\n",
    "                    batch_size=512,\n",
    "                    epochs=60,\n",
    "                    validation_split=0.1,\n",
    "                    verbose=1)\n",
    "hist = pd.DataFrame(history.history)"
   ]
  },
  {
   "cell_type": "code",
   "execution_count": 10,
   "metadata": {},
   "outputs": [
    {
     "name": "stdout",
     "output_type": "stream",
     "text": [
      "WARNING:tensorflow:From /usr/local/lib/python3.5/dist-packages/tensorflow/python/framework/op_def_library.py:263: colocate_with (from tensorflow.python.framework.ops) is deprecated and will be removed in a future version.\n",
      "Instructions for updating:\n",
      "Colocations handled automatically by placer.\n",
      "WARNING:tensorflow:From /home/aman-anmol/.local/lib/python3.5/site-packages/keras/backend/tensorflow_backend.py:3445: calling dropout (from tensorflow.python.ops.nn_ops) with keep_prob is deprecated and will be removed in a future version.\n",
      "Instructions for updating:\n",
      "Please use `rate` instead of `keep_prob`. Rate should be set to `rate = 1 - keep_prob`.\n"
     ]
    },
    {
     "name": "stderr",
     "output_type": "stream",
     "text": [
      "Using TensorFlow backend.\n"
     ]
    },
    {
     "name": "stdout",
     "output_type": "stream",
     "text": [
      "(?, 50, 10) (?, 50, 20)\n",
      "__________________________________________________________________________________________________\n",
      "Layer (type)                    Output Shape         Param #     Connected to                     \n",
      "==================================================================================================\n",
      "input_2 (InputLayer)            (None, 50, 10)       0                                            \n",
      "__________________________________________________________________________________________________\n",
      "time_distributed_1 (TimeDistrib (None, 50, 10, 10)   930         input_2[0][0]                    \n",
      "__________________________________________________________________________________________________\n",
      "dropout_1 (Dropout)             (None, 50, 10, 10)   0           time_distributed_1[0][0]         \n",
      "__________________________________________________________________________________________________\n",
      "time_distributed_2 (TimeDistrib (None, 50, 10, 10)   310         dropout_1[0][0]                  \n",
      "__________________________________________________________________________________________________\n",
      "time_distributed_3 (TimeDistrib (None, 50, 1, 10)    0           time_distributed_2[0][0]         \n",
      "__________________________________________________________________________________________________\n",
      "input_1 (InputLayer)            (None, 50)           0                                            \n",
      "__________________________________________________________________________________________________\n",
      "time_distributed_4 (TimeDistrib (None, 50, 10)       0           time_distributed_3[0][0]         \n",
      "__________________________________________________________________________________________________\n",
      "embedding_1 (Embedding)         (None, 50, 20)       166580      input_1[0][0]                    \n",
      "__________________________________________________________________________________________________\n",
      "dropout_2 (Dropout)             (None, 50, 10)       0           time_distributed_4[0][0]         \n",
      "__________________________________________________________________________________________________\n",
      "concatenate_1 (Concatenate)     (None, 50, 30)       0           embedding_1[0][0]                \n",
      "                                                                 dropout_2[0][0]                  \n",
      "__________________________________________________________________________________________________\n",
      "spatial_dropout1d_1 (SpatialDro (None, 50, 30)       0           concatenate_1[0][0]              \n",
      "__________________________________________________________________________________________________\n",
      "bidirectional_1 (Bidirectional) (None, 50, 100)      32400       spatial_dropout1d_1[0][0]        \n",
      "__________________________________________________________________________________________________\n",
      "time_distributed_5 (TimeDistrib (None, 50, 50)       5050        bidirectional_1[0][0]            \n",
      "__________________________________________________________________________________________________\n",
      "crf_1 (CRF)                     (None, 50, 12)       780         time_distributed_5[0][0]         \n",
      "==================================================================================================\n",
      "Total params: 206,050\n",
      "Trainable params: 206,050\n",
      "Non-trainable params: 0\n",
      "__________________________________________________________________________________________________\n"
     ]
    }
   ],
   "source": [
    "# Now fitting a LSTM-CRF network with an embedding layer\n",
    "from keras.models import Model, Input\n",
    "from keras.layers import LSTM, Embedding, Dense, Conv1D, TimeDistributed, Bidirectional\n",
    "from keras.layers import concatenate, SpatialDropout1D, Dropout, MaxPooling1D, Flatten\n",
    "from keras.initializers import RandomUniform\n",
    "from keras_contrib.layers import CRF\n",
    "from keras.utils import plot_model\n",
    "\n",
    "# Input and Embeddings for words\n",
    "word_input = Input(shape=(max_len,))\n",
    "word_emb = Embedding(input_dim = n_words + 2,\n",
    "                     output_dim = word_emb_size,\n",
    "                     input_length = max_len,\n",
    "                     mask_zero = True)(word_input)  # 20-dim embedding#\n",
    "\n",
    "# Input and Embeddings for characters\n",
    "char_input = Input(shape=(max_len, char_max_len,))\n",
    "char_emb = TimeDistributed(Embedding(input_dim = n_chars + 2,\n",
    "                                     output_dim = char_emb_size,\n",
    "                                     input_length = char_max_len,\n",
    "                                     embeddings_initializer=RandomUniform(minval=-0.5, maxval=0.5)))(char_input)  # 10-dim embedding#\n",
    "\n",
    "char_dropout = Dropout(0.5)(char_emb)\n",
    "char_conv = TimeDistributed(Conv1D(kernel_size = 3,\n",
    "                                  filters = char_emb_size,\n",
    "                                  padding = 'same',\n",
    "                                  activation = 'tanh',\n",
    "                                  strides = 1))(char_dropout)\n",
    "char_maxpool = TimeDistributed(MaxPooling1D(char_max_len))(char_conv)\n",
    "char_enc = TimeDistributed(Flatten())(char_maxpool)\n",
    "char_enc = Dropout(0.5)(char_enc)\n",
    "\n",
    "\n",
    "# Character LSTM to get word encodings by characters\n",
    "#char_enc = TimeDistributed(LSTM(units = 20,\n",
    "#                                return_sequences = False,\n",
    "#                                recurrent_dropout = 0.5))(char_emb)\n",
    "\n",
    "print(char_enc.shape, word_emb.shape)\n",
    "\n",
    "# Main LSTM\n",
    "x = concatenate([word_emb, char_enc])\n",
    "x = SpatialDropout1D(0.3)(x)\n",
    "model = Bidirectional(LSTM(units=50,\n",
    "                           return_sequences=True,\n",
    "                           recurrent_dropout=0.6))(x)     # variational biLSTM\n",
    "\n",
    "model = TimeDistributed(Dense(50, activation=\"relu\"))(model)  # a dense layer as suggested by neuralNer\n",
    "\n",
    "crf = CRF(n_tags + 1) # CRF layer\n",
    "out = crf(model)  # output\n",
    "\n",
    "model = Model([word_input, char_input], out)\n",
    "model.compile(optimizer=\"rmsprop\", loss=crf.loss_function, metrics=[crf.accuracy])\n",
    "model.summary()\n",
    "#plot_model(model, to_file = 'cnn-lstm-crf.png')"
   ]
  },
  {
   "cell_type": "markdown",
   "metadata": {},
   "source": [
    "## Training & Validation"
   ]
  },
  {
   "cell_type": "code",
   "execution_count": 175,
   "metadata": {},
   "outputs": [
    {
     "name": "stdout",
     "output_type": "stream",
     "text": [
      "Train on 6091 samples, validate on 677 samples\n",
      "Epoch 1/100\n",
      "6091/6091 [==============================] - 11s 2ms/step - loss: 11.6181 - crf_viterbi_accuracy: 0.6744 - val_loss: 11.6269 - val_crf_viterbi_accuracy: 0.8346\n",
      "Epoch 2/100\n",
      "6091/6091 [==============================] - 4s 717us/step - loss: 10.8573 - crf_viterbi_accuracy: 0.8328 - val_loss: 11.4693 - val_crf_viterbi_accuracy: 0.8346\n",
      "Epoch 3/100\n",
      "6091/6091 [==============================] - 4s 714us/step - loss: 10.7537 - crf_viterbi_accuracy: 0.8328 - val_loss: 11.3973 - val_crf_viterbi_accuracy: 0.8346\n",
      "Epoch 4/100\n",
      "6091/6091 [==============================] - 4s 724us/step - loss: 10.6992 - crf_viterbi_accuracy: 0.8328 - val_loss: 11.3389 - val_crf_viterbi_accuracy: 0.8346\n",
      "Epoch 5/100\n",
      "6091/6091 [==============================] - 4s 717us/step - loss: 10.6500 - crf_viterbi_accuracy: 0.8328 - val_loss: 11.2884 - val_crf_viterbi_accuracy: 0.8346\n",
      "Epoch 6/100\n",
      "6091/6091 [==============================] - 4s 722us/step - loss: 10.6019 - crf_viterbi_accuracy: 0.8329 - val_loss: 11.2203 - val_crf_viterbi_accuracy: 0.8346\n",
      "Epoch 7/100\n",
      "6091/6091 [==============================] - 4s 721us/step - loss: 10.5459 - crf_viterbi_accuracy: 0.8343 - val_loss: 11.1638 - val_crf_viterbi_accuracy: 0.8424\n",
      "Epoch 8/100\n",
      "6091/6091 [==============================] - 4s 718us/step - loss: 10.4940 - crf_viterbi_accuracy: 0.8423 - val_loss: 11.1253 - val_crf_viterbi_accuracy: 0.8472\n",
      "Epoch 9/100\n",
      "6091/6091 [==============================] - 4s 717us/step - loss: 10.4505 - crf_viterbi_accuracy: 0.8510 - val_loss: 11.0982 - val_crf_viterbi_accuracy: 0.8527\n",
      "Epoch 10/100\n",
      "6091/6091 [==============================] - 4s 721us/step - loss: 10.4195 - crf_viterbi_accuracy: 0.8558 - val_loss: 11.0725 - val_crf_viterbi_accuracy: 0.8570\n",
      "Epoch 11/100\n",
      "6091/6091 [==============================] - 4s 721us/step - loss: 10.3956 - crf_viterbi_accuracy: 0.8617 - val_loss: 11.0556 - val_crf_viterbi_accuracy: 0.8604\n",
      "Epoch 12/100\n",
      "6091/6091 [==============================] - 4s 720us/step - loss: 10.3719 - crf_viterbi_accuracy: 0.8654 - val_loss: 11.0405 - val_crf_viterbi_accuracy: 0.8661\n",
      "Epoch 13/100\n",
      "6091/6091 [==============================] - 4s 720us/step - loss: 10.3565 - crf_viterbi_accuracy: 0.8718 - val_loss: 11.0303 - val_crf_viterbi_accuracy: 0.8741\n",
      "Epoch 14/100\n",
      "6091/6091 [==============================] - 4s 722us/step - loss: 10.3426 - crf_viterbi_accuracy: 0.8756 - val_loss: 11.0213 - val_crf_viterbi_accuracy: 0.8807\n",
      "Epoch 15/100\n",
      "6091/6091 [==============================] - 4s 723us/step - loss: 10.3268 - crf_viterbi_accuracy: 0.8817 - val_loss: 11.0206 - val_crf_viterbi_accuracy: 0.8835\n",
      "Epoch 16/100\n",
      "6091/6091 [==============================] - 4s 717us/step - loss: 10.3127 - crf_viterbi_accuracy: 0.8872 - val_loss: 11.0103 - val_crf_viterbi_accuracy: 0.8858\n",
      "Epoch 17/100\n",
      "6091/6091 [==============================] - 4s 728us/step - loss: 10.3000 - crf_viterbi_accuracy: 0.8913 - val_loss: 10.9900 - val_crf_viterbi_accuracy: 0.8913\n",
      "Epoch 18/100\n",
      "6091/6091 [==============================] - 4s 721us/step - loss: 10.2896 - crf_viterbi_accuracy: 0.8956 - val_loss: 10.9840 - val_crf_viterbi_accuracy: 0.8926\n",
      "Epoch 19/100\n",
      "6091/6091 [==============================] - 4s 721us/step - loss: 10.2806 - crf_viterbi_accuracy: 0.8989 - val_loss: 10.9842 - val_crf_viterbi_accuracy: 0.8925\n",
      "Epoch 20/100\n",
      "6091/6091 [==============================] - 4s 719us/step - loss: 10.2698 - crf_viterbi_accuracy: 0.9015 - val_loss: 10.9720 - val_crf_viterbi_accuracy: 0.8968\n",
      "Epoch 21/100\n",
      "6091/6091 [==============================] - 4s 719us/step - loss: 10.2632 - crf_viterbi_accuracy: 0.9040 - val_loss: 10.9743 - val_crf_viterbi_accuracy: 0.8946\n",
      "Epoch 22/100\n",
      "6091/6091 [==============================] - 4s 721us/step - loss: 10.2548 - crf_viterbi_accuracy: 0.9066 - val_loss: 10.9624 - val_crf_viterbi_accuracy: 0.8966\n",
      "Epoch 23/100\n",
      "6091/6091 [==============================] - 4s 720us/step - loss: 10.2475 - crf_viterbi_accuracy: 0.9083 - val_loss: 10.9557 - val_crf_viterbi_accuracy: 0.9012\n",
      "Epoch 24/100\n",
      "6091/6091 [==============================] - 4s 725us/step - loss: 10.2408 - crf_viterbi_accuracy: 0.9097 - val_loss: 10.9536 - val_crf_viterbi_accuracy: 0.9021\n",
      "Epoch 25/100\n",
      "6091/6091 [==============================] - 4s 721us/step - loss: 10.2344 - crf_viterbi_accuracy: 0.9120 - val_loss: 10.9519 - val_crf_viterbi_accuracy: 0.9000\n",
      "Epoch 26/100\n",
      "6091/6091 [==============================] - 4s 716us/step - loss: 10.2293 - crf_viterbi_accuracy: 0.9128 - val_loss: 10.9440 - val_crf_viterbi_accuracy: 0.9040\n",
      "Epoch 27/100\n",
      "6091/6091 [==============================] - 4s 722us/step - loss: 10.2232 - crf_viterbi_accuracy: 0.9135 - val_loss: 10.9453 - val_crf_viterbi_accuracy: 0.9040\n",
      "Epoch 28/100\n",
      "6091/6091 [==============================] - 4s 737us/step - loss: 10.2168 - crf_viterbi_accuracy: 0.9168 - val_loss: 10.9400 - val_crf_viterbi_accuracy: 0.9049\n",
      "Epoch 29/100\n",
      "6091/6091 [==============================] - 4s 735us/step - loss: 10.2123 - crf_viterbi_accuracy: 0.9163 - val_loss: 10.9468 - val_crf_viterbi_accuracy: 0.9025\n",
      "Epoch 30/100\n",
      "6091/6091 [==============================] - 5s 739us/step - loss: 10.2083 - crf_viterbi_accuracy: 0.9161 - val_loss: 10.9370 - val_crf_viterbi_accuracy: 0.9052\n",
      "Epoch 31/100\n",
      "6091/6091 [==============================] - 4s 727us/step - loss: 10.2014 - crf_viterbi_accuracy: 0.9190 - val_loss: 10.9422 - val_crf_viterbi_accuracy: 0.9043\n",
      "Epoch 32/100\n",
      "6091/6091 [==============================] - 4s 722us/step - loss: 10.1974 - crf_viterbi_accuracy: 0.9202 - val_loss: 10.9325 - val_crf_viterbi_accuracy: 0.9066\n",
      "Epoch 33/100\n",
      "6091/6091 [==============================] - 4s 717us/step - loss: 10.1940 - crf_viterbi_accuracy: 0.9208 - val_loss: 10.9299 - val_crf_viterbi_accuracy: 0.9064\n",
      "Epoch 34/100\n",
      "6091/6091 [==============================] - 4s 717us/step - loss: 10.1893 - crf_viterbi_accuracy: 0.9203 - val_loss: 10.9211 - val_crf_viterbi_accuracy: 0.9065\n",
      "Epoch 35/100\n",
      "6091/6091 [==============================] - 4s 722us/step - loss: 10.1850 - crf_viterbi_accuracy: 0.9222 - val_loss: 10.9383 - val_crf_viterbi_accuracy: 0.9030\n",
      "Epoch 36/100\n",
      "6091/6091 [==============================] - 4s 717us/step - loss: 10.1816 - crf_viterbi_accuracy: 0.9228 - val_loss: 10.9169 - val_crf_viterbi_accuracy: 0.9077\n",
      "Epoch 37/100\n",
      "6091/6091 [==============================] - 4s 721us/step - loss: 10.1810 - crf_viterbi_accuracy: 0.9221 - val_loss: 10.9179 - val_crf_viterbi_accuracy: 0.9084\n",
      "Epoch 38/100\n",
      "6091/6091 [==============================] - 4s 718us/step - loss: 10.1732 - crf_viterbi_accuracy: 0.9246 - val_loss: 10.9370 - val_crf_viterbi_accuracy: 0.9026\n",
      "Epoch 39/100\n",
      "6091/6091 [==============================] - 4s 719us/step - loss: 10.1730 - crf_viterbi_accuracy: 0.9239 - val_loss: 10.9262 - val_crf_viterbi_accuracy: 0.9081\n",
      "Epoch 40/100\n",
      "6091/6091 [==============================] - 4s 720us/step - loss: 10.1670 - crf_viterbi_accuracy: 0.9245 - val_loss: 10.9194 - val_crf_viterbi_accuracy: 0.9099\n",
      "Epoch 41/100\n",
      "6091/6091 [==============================] - 4s 720us/step - loss: 10.1627 - crf_viterbi_accuracy: 0.9279 - val_loss: 10.9094 - val_crf_viterbi_accuracy: 0.9107\n",
      "Epoch 42/100\n",
      "6091/6091 [==============================] - 4s 717us/step - loss: 10.1598 - crf_viterbi_accuracy: 0.9274 - val_loss: 10.9071 - val_crf_viterbi_accuracy: 0.9100\n",
      "Epoch 43/100\n",
      "6091/6091 [==============================] - 4s 721us/step - loss: 10.1567 - crf_viterbi_accuracy: 0.9276 - val_loss: 10.9059 - val_crf_viterbi_accuracy: 0.9111\n",
      "Epoch 44/100\n",
      "6091/6091 [==============================] - 4s 727us/step - loss: 10.1547 - crf_viterbi_accuracy: 0.9291 - val_loss: 10.9055 - val_crf_viterbi_accuracy: 0.9110\n",
      "Epoch 45/100\n",
      "6091/6091 [==============================] - 4s 719us/step - loss: 10.1503 - crf_viterbi_accuracy: 0.9293 - val_loss: 10.9029 - val_crf_viterbi_accuracy: 0.9103\n",
      "Epoch 46/100\n",
      "6091/6091 [==============================] - 4s 724us/step - loss: 10.1459 - crf_viterbi_accuracy: 0.9297 - val_loss: 10.9022 - val_crf_viterbi_accuracy: 0.9116\n",
      "Epoch 47/100\n",
      "6091/6091 [==============================] - 4s 720us/step - loss: 10.1420 - crf_viterbi_accuracy: 0.9330 - val_loss: 10.9057 - val_crf_viterbi_accuracy: 0.9127\n"
     ]
    },
    {
     "name": "stdout",
     "output_type": "stream",
     "text": [
      "Epoch 48/100\n",
      "6091/6091 [==============================] - 4s 714us/step - loss: 10.1426 - crf_viterbi_accuracy: 0.9295 - val_loss: 10.8994 - val_crf_viterbi_accuracy: 0.9147\n",
      "Epoch 49/100\n",
      "6091/6091 [==============================] - 4s 717us/step - loss: 10.1373 - crf_viterbi_accuracy: 0.9330 - val_loss: 10.9184 - val_crf_viterbi_accuracy: 0.9104\n",
      "Epoch 50/100\n",
      "6091/6091 [==============================] - 4s 716us/step - loss: 10.1354 - crf_viterbi_accuracy: 0.9329 - val_loss: 10.9032 - val_crf_viterbi_accuracy: 0.9132\n",
      "Epoch 51/100\n",
      "6091/6091 [==============================] - 4s 720us/step - loss: 10.1340 - crf_viterbi_accuracy: 0.9321 - val_loss: 10.8969 - val_crf_viterbi_accuracy: 0.9128\n",
      "Epoch 52/100\n",
      "6091/6091 [==============================] - 4s 717us/step - loss: 10.1297 - crf_viterbi_accuracy: 0.9349 - val_loss: 10.8931 - val_crf_viterbi_accuracy: 0.9115\n",
      "Epoch 53/100\n",
      "6091/6091 [==============================] - 4s 713us/step - loss: 10.1282 - crf_viterbi_accuracy: 0.9361 - val_loss: 10.9063 - val_crf_viterbi_accuracy: 0.9136\n",
      "Epoch 54/100\n",
      "6091/6091 [==============================] - 4s 713us/step - loss: 10.1263 - crf_viterbi_accuracy: 0.9361 - val_loss: 10.8945 - val_crf_viterbi_accuracy: 0.9146\n",
      "Epoch 55/100\n",
      "6091/6091 [==============================] - 4s 714us/step - loss: 10.1243 - crf_viterbi_accuracy: 0.9351 - val_loss: 10.8959 - val_crf_viterbi_accuracy: 0.9151\n",
      "Epoch 56/100\n",
      "6091/6091 [==============================] - 4s 714us/step - loss: 10.1202 - crf_viterbi_accuracy: 0.9374 - val_loss: 10.8976 - val_crf_viterbi_accuracy: 0.9145\n",
      "Epoch 57/100\n",
      "6091/6091 [==============================] - 4s 720us/step - loss: 10.1209 - crf_viterbi_accuracy: 0.9354 - val_loss: 10.8924 - val_crf_viterbi_accuracy: 0.9149\n",
      "Epoch 58/100\n",
      "6091/6091 [==============================] - 4s 715us/step - loss: 10.1161 - crf_viterbi_accuracy: 0.9394 - val_loss: 10.8977 - val_crf_viterbi_accuracy: 0.9161\n",
      "Epoch 59/100\n",
      "6091/6091 [==============================] - 4s 718us/step - loss: 10.1156 - crf_viterbi_accuracy: 0.9362 - val_loss: 10.8915 - val_crf_viterbi_accuracy: 0.9147\n",
      "Epoch 60/100\n",
      "6091/6091 [==============================] - 4s 715us/step - loss: 10.1128 - crf_viterbi_accuracy: 0.9402 - val_loss: 10.8945 - val_crf_viterbi_accuracy: 0.9156\n",
      "Epoch 61/100\n",
      "6091/6091 [==============================] - 4s 715us/step - loss: 10.1117 - crf_viterbi_accuracy: 0.9384 - val_loss: 10.8937 - val_crf_viterbi_accuracy: 0.9064\n",
      "Epoch 62/100\n",
      "6091/6091 [==============================] - 4s 715us/step - loss: 10.1090 - crf_viterbi_accuracy: 0.9376 - val_loss: 10.8881 - val_crf_viterbi_accuracy: 0.9093\n",
      "Epoch 63/100\n",
      "6091/6091 [==============================] - 4s 718us/step - loss: 10.1086 - crf_viterbi_accuracy: 0.9393 - val_loss: 10.8915 - val_crf_viterbi_accuracy: 0.9177\n",
      "Epoch 64/100\n",
      "6091/6091 [==============================] - 4s 720us/step - loss: 10.1067 - crf_viterbi_accuracy: 0.9399 - val_loss: 10.8940 - val_crf_viterbi_accuracy: 0.9185\n",
      "Epoch 65/100\n",
      "6091/6091 [==============================] - 4s 713us/step - loss: 10.1036 - crf_viterbi_accuracy: 0.9424 - val_loss: 10.8896 - val_crf_viterbi_accuracy: 0.9138\n",
      "Epoch 66/100\n",
      "6091/6091 [==============================] - 4s 718us/step - loss: 10.1032 - crf_viterbi_accuracy: 0.9415 - val_loss: 10.8884 - val_crf_viterbi_accuracy: 0.9131\n",
      "Epoch 67/100\n",
      "6091/6091 [==============================] - 4s 716us/step - loss: 10.1018 - crf_viterbi_accuracy: 0.9418 - val_loss: 10.8917 - val_crf_viterbi_accuracy: 0.9158\n",
      "Epoch 68/100\n",
      "6091/6091 [==============================] - 4s 716us/step - loss: 10.0989 - crf_viterbi_accuracy: 0.9433 - val_loss: 10.8876 - val_crf_viterbi_accuracy: 0.9132\n",
      "Epoch 69/100\n",
      "6091/6091 [==============================] - 4s 715us/step - loss: 10.0953 - crf_viterbi_accuracy: 0.9465 - val_loss: 10.9004 - val_crf_viterbi_accuracy: 0.9164\n",
      "Epoch 70/100\n",
      "6091/6091 [==============================] - 4s 716us/step - loss: 10.0968 - crf_viterbi_accuracy: 0.9436 - val_loss: 10.8997 - val_crf_viterbi_accuracy: 0.9140\n",
      "Epoch 71/100\n",
      "6091/6091 [==============================] - 4s 722us/step - loss: 10.0944 - crf_viterbi_accuracy: 0.9446 - val_loss: 10.8915 - val_crf_viterbi_accuracy: 0.9149\n",
      "Epoch 72/100\n",
      "6091/6091 [==============================] - 4s 720us/step - loss: 10.0944 - crf_viterbi_accuracy: 0.9434 - val_loss: 10.8900 - val_crf_viterbi_accuracy: 0.9148\n",
      "Epoch 73/100\n",
      "6091/6091 [==============================] - 4s 723us/step - loss: 10.0928 - crf_viterbi_accuracy: 0.9444 - val_loss: 10.8870 - val_crf_viterbi_accuracy: 0.9088\n",
      "Epoch 74/100\n",
      "6091/6091 [==============================] - 5s 779us/step - loss: 10.0904 - crf_viterbi_accuracy: 0.9450 - val_loss: 10.8862 - val_crf_viterbi_accuracy: 0.9086\n",
      "Epoch 75/100\n",
      "6091/6091 [==============================] - 6s 917us/step - loss: 10.0906 - crf_viterbi_accuracy: 0.9445 - val_loss: 10.8887 - val_crf_viterbi_accuracy: 0.9110\n",
      "Epoch 76/100\n",
      "6091/6091 [==============================] - 5s 877us/step - loss: 10.0882 - crf_viterbi_accuracy: 0.9458 - val_loss: 10.8911 - val_crf_viterbi_accuracy: 0.9139\n",
      "Epoch 77/100\n",
      "6091/6091 [==============================] - 5s 813us/step - loss: 10.0883 - crf_viterbi_accuracy: 0.9454 - val_loss: 10.8945 - val_crf_viterbi_accuracy: 0.9141\n",
      "Epoch 78/100\n",
      "6091/6091 [==============================] - 5s 820us/step - loss: 10.0857 - crf_viterbi_accuracy: 0.9474 - val_loss: 10.8959 - val_crf_viterbi_accuracy: 0.9145\n",
      "Epoch 79/100\n",
      "6091/6091 [==============================] - 6s 946us/step - loss: 10.0840 - crf_viterbi_accuracy: 0.9481 - val_loss: 10.8897 - val_crf_viterbi_accuracy: 0.9115\n",
      "Epoch 80/100\n",
      "6091/6091 [==============================] - 6s 911us/step - loss: 10.0834 - crf_viterbi_accuracy: 0.9469 - val_loss: 10.8921 - val_crf_viterbi_accuracy: 0.9129\n",
      "Epoch 81/100\n",
      "6091/6091 [==============================] - 5s 901us/step - loss: 10.0838 - crf_viterbi_accuracy: 0.9466 - val_loss: 10.8878 - val_crf_viterbi_accuracy: 0.9128\n",
      "Epoch 82/100\n",
      "6091/6091 [==============================] - 6s 921us/step - loss: 10.0813 - crf_viterbi_accuracy: 0.9484 - val_loss: 10.8966 - val_crf_viterbi_accuracy: 0.9157\n",
      "Epoch 83/100\n",
      "6091/6091 [==============================] - 6s 905us/step - loss: 10.0797 - crf_viterbi_accuracy: 0.9476 - val_loss: 10.8860 - val_crf_viterbi_accuracy: 0.9141\n",
      "Epoch 84/100\n",
      "6091/6091 [==============================] - 5s 825us/step - loss: 10.0780 - crf_viterbi_accuracy: 0.9494 - val_loss: 10.8928 - val_crf_viterbi_accuracy: 0.9126\n",
      "Epoch 85/100\n",
      "6091/6091 [==============================] - 5s 782us/step - loss: 10.0784 - crf_viterbi_accuracy: 0.9494 - val_loss: 10.8904 - val_crf_viterbi_accuracy: 0.9143\n",
      "Epoch 86/100\n",
      "6091/6091 [==============================] - 5s 758us/step - loss: 10.0757 - crf_viterbi_accuracy: 0.9525 - val_loss: 10.8911 - val_crf_viterbi_accuracy: 0.9111\n",
      "Epoch 87/100\n",
      "6091/6091 [==============================] - 5s 744us/step - loss: 10.0767 - crf_viterbi_accuracy: 0.9491 - val_loss: 10.8942 - val_crf_viterbi_accuracy: 0.9122\n",
      "Epoch 88/100\n",
      "6091/6091 [==============================] - 4s 734us/step - loss: 10.0750 - crf_viterbi_accuracy: 0.9498 - val_loss: 10.8992 - val_crf_viterbi_accuracy: 0.9141\n",
      "Epoch 89/100\n",
      "6091/6091 [==============================] - 5s 746us/step - loss: 10.0733 - crf_viterbi_accuracy: 0.9529 - val_loss: 10.8927 - val_crf_viterbi_accuracy: 0.9139\n",
      "Epoch 90/100\n",
      "6091/6091 [==============================] - 4s 737us/step - loss: 10.0734 - crf_viterbi_accuracy: 0.9508 - val_loss: 10.8995 - val_crf_viterbi_accuracy: 0.9140\n",
      "Epoch 91/100\n",
      "6091/6091 [==============================] - 4s 732us/step - loss: 10.0721 - crf_viterbi_accuracy: 0.9523 - val_loss: 10.8925 - val_crf_viterbi_accuracy: 0.9142\n",
      "Epoch 92/100\n",
      "6091/6091 [==============================] - 4s 726us/step - loss: 10.0720 - crf_viterbi_accuracy: 0.9508 - val_loss: 10.8931 - val_crf_viterbi_accuracy: 0.9129\n",
      "Epoch 93/100\n",
      "6091/6091 [==============================] - 4s 728us/step - loss: 10.0705 - crf_viterbi_accuracy: 0.9529 - val_loss: 10.8911 - val_crf_viterbi_accuracy: 0.9077\n",
      "Epoch 94/100\n",
      "6091/6091 [==============================] - 4s 723us/step - loss: 10.0684 - crf_viterbi_accuracy: 0.9531 - val_loss: 10.8932 - val_crf_viterbi_accuracy: 0.9124\n",
      "Epoch 95/100\n",
      "6091/6091 [==============================] - 4s 718us/step - loss: 10.0686 - crf_viterbi_accuracy: 0.9522 - val_loss: 10.8906 - val_crf_viterbi_accuracy: 0.9115\n",
      "Epoch 96/100\n",
      "6091/6091 [==============================] - 4s 728us/step - loss: 10.0678 - crf_viterbi_accuracy: 0.9533 - val_loss: 10.8926 - val_crf_viterbi_accuracy: 0.9132\n",
      "Epoch 97/100\n",
      "6091/6091 [==============================] - 4s 738us/step - loss: 10.0666 - crf_viterbi_accuracy: 0.9541 - val_loss: 10.8912 - val_crf_viterbi_accuracy: 0.9062\n",
      "Epoch 98/100\n",
      "6091/6091 [==============================] - 4s 725us/step - loss: 10.0666 - crf_viterbi_accuracy: 0.9533 - val_loss: 10.8949 - val_crf_viterbi_accuracy: 0.9089\n",
      "Epoch 99/100\n",
      "6091/6091 [==============================] - 4s 724us/step - loss: 10.0645 - crf_viterbi_accuracy: 0.9543 - val_loss: 10.9004 - val_crf_viterbi_accuracy: 0.9127\n",
      "Epoch 100/100\n",
      "6091/6091 [==============================] - 4s 718us/step - loss: 10.0639 - crf_viterbi_accuracy: 0.9534 - val_loss: 10.8994 - val_crf_viterbi_accuracy: 0.9135\n"
     ]
    }
   ],
   "source": [
    "history = model.fit([X_tr, np.array(X_char_tr).reshape((len(X_char_tr), max_len, char_max_len))],\n",
    "                    np.array(y_tr),\n",
    "                    batch_size=BATCH_SIZE,\n",
    "                    epochs=EPOCHS,\n",
    "                    validation_split=0.1,\n",
    "                    verbose=1)"
   ]
  },
  {
   "cell_type": "code",
   "execution_count": 176,
   "metadata": {},
   "outputs": [
    {
     "data": {
      "text/plain": [
       "<Figure size 720x720 with 0 Axes>"
      ]
     },
     "execution_count": 176,
     "metadata": {},
     "output_type": "execute_result"
    },
    {
     "data": {
      "text/plain": [
       "[<matplotlib.lines.Line2D at 0x7f45916911d0>]"
      ]
     },
     "execution_count": 176,
     "metadata": {},
     "output_type": "execute_result"
    },
    {
     "data": {
      "text/plain": [
       "[<matplotlib.lines.Line2D at 0x7f4591691518>]"
      ]
     },
     "execution_count": 176,
     "metadata": {},
     "output_type": "execute_result"
    },
    {
     "data": {
      "image/png": "[encoded data removed]",
      "text/plain": [
       "<Figure size 720x720 with 1 Axes>"
      ]
     },
     "metadata": {},
     "output_type": "display_data"
    }
   ],
   "source": [
    "hist = pd.DataFrame(history.history)\n",
    "\n",
    "plt.style.use(\"ggplot\")\n",
    "plt.figure(figsize=(10,10))\n",
    "plt.plot(hist[\"crf_viterbi_accuracy\"])\n",
    "plt.plot(hist[\"val_crf_viterbi_accuracy\"])\n",
    "plt.show()"
   ]
  },
  {
   "cell_type": "markdown",
   "metadata": {},
   "source": [
    "## Evaluation"
   ]
  },
  {
   "cell_type": "code",
   "execution_count": 177,
   "metadata": {},
   "outputs": [
    {
     "name": "stdout",
     "output_type": "stream",
     "text": [
      "752/752 [==============================] - 2s 3ms/step\n",
      "F1-score: 61.6%\n",
      "           precision    recall  f1-score   support\n",
      "\n",
      "     Drug       0.91      0.86      0.89       169\n",
      "  Disease       0.25      0.14      0.18        22\n",
      "  Symptom       0.17      0.05      0.08        37\n",
      "      ADR       0.61      0.60      0.60       618\n",
      "  Finding       0.05      0.03      0.04        35\n",
      "\n",
      "micro avg       0.64      0.59      0.62       881\n",
      "macro avg       0.62      0.59      0.60       881\n",
      "\n"
     ]
    }
   ],
   "source": [
    "# Evaluation\n",
    "from seqeval.metrics import precision_score, recall_score, f1_score, classification_report\n",
    "\n",
    "test_pred = model.predict([X_te, np.array(X_char_te).reshape((len(X_char_te), max_len, char_max_len))], \n",
    "                          verbose=1)\n",
    "index_to_tags = {i: w for w, i in tags_to_index.items()}\n",
    "\n",
    "def pred2label(pred):\n",
    "    out = []\n",
    "    for pred_i in pred:\n",
    "        out_i = []\n",
    "        for p in pred_i:\n",
    "            p_i = np.argmax(p)\n",
    "            out_i.append(index_to_tags[p_i].replace(\"PAD\", \"O\"))\n",
    "        out.append(out_i)\n",
    "    return out\n",
    "\n",
    "pred_labels = pred2label(test_pred)\n",
    "test_labels = pred2label(y_te)\n",
    "print(\"F1-score: {:.1%}\".format(f1_score(test_labels, pred_labels)))\n",
    "print(classification_report(test_labels, pred_labels))"
   ]
  },
  {
   "cell_type": "markdown",
   "metadata": {},
   "source": [
    "## Testing"
   ]
  },
  {
   "cell_type": "code",
   "execution_count": 574,
   "metadata": {
    "scrolled": true
   },
   "outputs": [
    {
     "name": "stdout",
     "output_type": "stream",
     "text": [
      "Word           ||True ||Pred\n",
      "==============================\n",
      "no             : O     O\n",
      "side           : O     O\n",
      "effects        : O     O\n",
      "and            : O     O\n",
      "it             : O     O\n",
      "does           : O     O\n",
      "its            : O     O\n",
      "job            : O     O\n",
      "0              : O     O\n"
     ]
    }
   ],
   "source": [
    "# Trying some predictions\n",
    "idx = np.random.choice(range(len(X_te)))\n",
    "p = model.predict([np.array([X_te[idx]]), \n",
    "                   np.array([np.array(X_char_tr).reshape((len(X_char_tr), max_len, char_max_len))[idx]])])\n",
    "p = pred2label(p)[0]\n",
    "true = pred2label([y_te[idx]])[0]\n",
    "print(\"{:15}||{:5}||{}\".format(\"Word\", \"True\", \"Pred\"))\n",
    "print(30 * \"=\")\n",
    "for w, t, pred in zip(X_te[idx], true, p):\n",
    "    if w > 1:\n",
    "        print(\"{:15}: {:5} {}\".format(words[w-2], t, pred))"
   ]
  },
  {
   "cell_type": "code",
   "execution_count": 394,
   "metadata": {},
   "outputs": [
    {
     "ename": "ValueError",
     "evalue": "Error when checking model input: the list of Numpy arrays that you are passing to your model is not the size the model expected. Expected to see 2 array(s), but instead got the following list of 1 arrays: [array([[7757, 8320, 3405, 7979,    0, 2232,  143,    0,  582,  904, 4464,\n           0,    0,    0,    0,    0,    0,    0,    0,    0,    0,    0,\n           0,    0,    0,    0,    0,    0,    0,  ...",
     "output_type": "error",
     "traceback": [
      "\u001b[0;31m---------------------------------------------------------------------------\u001b[0m",
      "\u001b[0;31mValueError\u001b[0m                                Traceback (most recent call last)",
      "\u001b[0;32m<ipython-input-394-4f7f8d366f00>\u001b[0m in \u001b[0;36m<module>\u001b[0;34m\u001b[0m\n\u001b[1;32m      4\u001b[0m x_test_sent = pad_sequences(sequences=[[words_to_index.get(w, 0) for w in test_sentence]],\n\u001b[1;32m      5\u001b[0m                             padding=\"post\", value=0, maxlen=max_len)\n\u001b[0;32m----> 6\u001b[0;31m \u001b[0mp\u001b[0m \u001b[0;34m=\u001b[0m \u001b[0mmodel\u001b[0m\u001b[0;34m.\u001b[0m\u001b[0mpredict\u001b[0m\u001b[0;34m(\u001b[0m\u001b[0mnp\u001b[0m\u001b[0;34m.\u001b[0m\u001b[0marray\u001b[0m\u001b[0;34m(\u001b[0m\u001b[0;34m[\u001b[0m\u001b[0mx_test_sent\u001b[0m\u001b[0;34m[\u001b[0m\u001b[0;36m0\u001b[0m\u001b[0;34m]\u001b[0m\u001b[0;34m]\u001b[0m\u001b[0;34m)\u001b[0m\u001b[0;34m)\u001b[0m\u001b[0;34m\u001b[0m\u001b[0m\n\u001b[0m\u001b[1;32m      7\u001b[0m \u001b[0mp\u001b[0m \u001b[0;34m=\u001b[0m \u001b[0mnp\u001b[0m\u001b[0;34m.\u001b[0m\u001b[0margmax\u001b[0m\u001b[0;34m(\u001b[0m\u001b[0mp\u001b[0m\u001b[0;34m,\u001b[0m \u001b[0maxis\u001b[0m\u001b[0;34m=\u001b[0m\u001b[0;34m-\u001b[0m\u001b[0;36m1\u001b[0m\u001b[0;34m)\u001b[0m\u001b[0;34m\u001b[0m\u001b[0m\n\u001b[1;32m      8\u001b[0m \u001b[0mprint\u001b[0m\u001b[0;34m(\u001b[0m\u001b[0;34m\"{:15}:{}\"\u001b[0m\u001b[0;34m.\u001b[0m\u001b[0mformat\u001b[0m\u001b[0;34m(\u001b[0m\u001b[0;34m\"Word\"\u001b[0m\u001b[0;34m,\u001b[0m \u001b[0;34m\"Prediction\"\u001b[0m\u001b[0;34m)\u001b[0m\u001b[0;34m)\u001b[0m\u001b[0;34m\u001b[0m\u001b[0m\n",
      "\u001b[0;32m~/.local/lib/python3.5/site-packages/keras/engine/training.py\u001b[0m in \u001b[0;36mpredict\u001b[0;34m(self, x, batch_size, verbose, steps)\u001b[0m\n\u001b[1;32m   1147\u001b[0m                              'argument.')\n\u001b[1;32m   1148\u001b[0m         \u001b[0;31m# Validate user data.\u001b[0m\u001b[0;34m\u001b[0m\u001b[0;34m\u001b[0m\u001b[0m\n\u001b[0;32m-> 1149\u001b[0;31m         \u001b[0mx\u001b[0m\u001b[0;34m,\u001b[0m \u001b[0m_\u001b[0m\u001b[0;34m,\u001b[0m \u001b[0m_\u001b[0m \u001b[0;34m=\u001b[0m \u001b[0mself\u001b[0m\u001b[0;34m.\u001b[0m\u001b[0m_standardize_user_data\u001b[0m\u001b[0;34m(\u001b[0m\u001b[0mx\u001b[0m\u001b[0;34m)\u001b[0m\u001b[0;34m\u001b[0m\u001b[0m\n\u001b[0m\u001b[1;32m   1150\u001b[0m         \u001b[0;32mif\u001b[0m \u001b[0mself\u001b[0m\u001b[0;34m.\u001b[0m\u001b[0mstateful\u001b[0m\u001b[0;34m:\u001b[0m\u001b[0;34m\u001b[0m\u001b[0m\n\u001b[1;32m   1151\u001b[0m             \u001b[0;32mif\u001b[0m \u001b[0mx\u001b[0m\u001b[0;34m[\u001b[0m\u001b[0;36m0\u001b[0m\u001b[0;34m]\u001b[0m\u001b[0;34m.\u001b[0m\u001b[0mshape\u001b[0m\u001b[0;34m[\u001b[0m\u001b[0;36m0\u001b[0m\u001b[0;34m]\u001b[0m \u001b[0;34m>\u001b[0m \u001b[0mbatch_size\u001b[0m \u001b[0;32mand\u001b[0m \u001b[0mx\u001b[0m\u001b[0;34m[\u001b[0m\u001b[0;36m0\u001b[0m\u001b[0;34m]\u001b[0m\u001b[0;34m.\u001b[0m\u001b[0mshape\u001b[0m\u001b[0;34m[\u001b[0m\u001b[0;36m0\u001b[0m\u001b[0;34m]\u001b[0m \u001b[0;34m%\u001b[0m \u001b[0mbatch_size\u001b[0m \u001b[0;34m!=\u001b[0m \u001b[0;36m0\u001b[0m\u001b[0;34m:\u001b[0m\u001b[0;34m\u001b[0m\u001b[0m\n",
      "\u001b[0;32m~/.local/lib/python3.5/site-packages/keras/engine/training.py\u001b[0m in \u001b[0;36m_standardize_user_data\u001b[0;34m(self, x, y, sample_weight, class_weight, check_array_lengths, batch_size)\u001b[0m\n\u001b[1;32m    749\u001b[0m             \u001b[0mfeed_input_shapes\u001b[0m\u001b[0;34m,\u001b[0m\u001b[0;34m\u001b[0m\u001b[0m\n\u001b[1;32m    750\u001b[0m             \u001b[0mcheck_batch_axis\u001b[0m\u001b[0;34m=\u001b[0m\u001b[0;32mFalse\u001b[0m\u001b[0;34m,\u001b[0m  \u001b[0;31m# Don't enforce the batch size.\u001b[0m\u001b[0;34m\u001b[0m\u001b[0m\n\u001b[0;32m--> 751\u001b[0;31m             exception_prefix='input')\n\u001b[0m\u001b[1;32m    752\u001b[0m \u001b[0;34m\u001b[0m\u001b[0m\n\u001b[1;32m    753\u001b[0m         \u001b[0;32mif\u001b[0m \u001b[0my\u001b[0m \u001b[0;32mis\u001b[0m \u001b[0;32mnot\u001b[0m \u001b[0;32mNone\u001b[0m\u001b[0;34m:\u001b[0m\u001b[0;34m\u001b[0m\u001b[0m\n",
      "\u001b[0;32m~/.local/lib/python3.5/site-packages/keras/engine/training_utils.py\u001b[0m in \u001b[0;36mstandardize_input_data\u001b[0;34m(data, names, shapes, check_batch_axis, exception_prefix)\u001b[0m\n\u001b[1;32m    100\u001b[0m                 \u001b[0;34m'Expected to see '\u001b[0m \u001b[0;34m+\u001b[0m \u001b[0mstr\u001b[0m\u001b[0;34m(\u001b[0m\u001b[0mlen\u001b[0m\u001b[0;34m(\u001b[0m\u001b[0mnames\u001b[0m\u001b[0;34m)\u001b[0m\u001b[0;34m)\u001b[0m \u001b[0;34m+\u001b[0m \u001b[0;34m' array(s), '\u001b[0m\u001b[0;34m\u001b[0m\u001b[0m\n\u001b[1;32m    101\u001b[0m                 \u001b[0;34m'but instead got the following list of '\u001b[0m \u001b[0;34m+\u001b[0m\u001b[0;34m\u001b[0m\u001b[0m\n\u001b[0;32m--> 102\u001b[0;31m                 str(len(data)) + ' arrays: ' + str(data)[:200] + '...')\n\u001b[0m\u001b[1;32m    103\u001b[0m         \u001b[0;32melif\u001b[0m \u001b[0mlen\u001b[0m\u001b[0;34m(\u001b[0m\u001b[0mnames\u001b[0m\u001b[0;34m)\u001b[0m \u001b[0;34m>\u001b[0m \u001b[0;36m1\u001b[0m\u001b[0;34m:\u001b[0m\u001b[0;34m\u001b[0m\u001b[0m\n\u001b[1;32m    104\u001b[0m             raise ValueError(\n",
      "\u001b[0;31mValueError\u001b[0m: Error when checking model input: the list of Numpy arrays that you are passing to your model is not the size the model expected. Expected to see 2 array(s), but instead got the following list of 1 arrays: [array([[7757, 8320, 3405, 7979,    0, 2232,  143,    0,  582,  904, 4464,\n           0,    0,    0,    0,    0,    0,    0,    0,    0,    0,    0,\n           0,    0,    0,    0,    0,    0,    0,  ..."
     ]
    }
   ],
   "source": [
    "# Prediction on new sentence\n",
    "test_sentence = [\"I\", \"was\", \"suffering\", \"with\", \"chronicle\", \"headaches\", \"took\",\n",
    "                 \"crocin\", \"for\", \"relieving\", \"pain\"]\n",
    "x_test_sent = pad_sequences(sequences=[[words_to_index.get(w, 0) for w in test_sentence]],\n",
    "                            padding=\"post\", value=0, maxlen=max_len)\n",
    "p = model.predict(np.array([x_test_sent[0]]))\n",
    "p = np.argmax(p, axis=-1)\n",
    "print(\"{:15}:{}\".format(\"Word\", \"Prediction\"))\n",
    "print(\"=\"*26)\n",
    "for w, pred in zip(test_sentence, p[0]):\n",
    "    print(\"{:15}:  {:5}\".format(w, l_tags[pred]))"
   ]
  },
  {
   "cell_type": "code",
   "execution_count": null,
   "metadata": {},
   "outputs": [],
   "source": []
  }
 ],
 "metadata": {
  "kernelspec": {
   "display_name": "Python 3",
   "language": "python",
   "name": "python3"
  },
  "language_info": {
   "codemirror_mode": {
    "name": "ipython",
    "version": 3
   },
   "file_extension": ".py",
   "mimetype": "text/x-python",
   "name": "python",
   "nbconvert_exporter": "python",
   "pygments_lexer": "ipython3",
   "version": "3.5.2"
  }
 },
 "nbformat": 4,
 "nbformat_minor": 2
}
